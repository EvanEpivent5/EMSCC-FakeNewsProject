{
 "cells": [
  {
   "cell_type": "code",
   "execution_count": 140,
   "metadata": {},
   "outputs": [],
   "source": [
    "import pandas as pd\n",
    "import numpy as np\n",
    "import matplotlib.pyplot as plt\n",
    "import seaborn as sns \n",
    "from sklearn.feature_extraction.text import CountVectorizer\n",
    "from sklearn.feature_extraction.text import TfidfTransformer\n",
    "from sklearn import feature_extraction, linear_model, model_selection, preprocessing\n",
    "from sklearn.metrics import accuracy_score\n",
    "from sklearn.model_selection import train_test_split\n",
    "from sklearn.pipeline import Pipeline\n",
    "from sklearn.utils import shuffle\n",
    "from sklearn.linear_model import LogisticRegression\n",
    "from sklearn.feature_extraction.text import TfidfVectorizer\n",
    "import scipy\n",
    "from lime import lime_tabular"
   ]
  },
  {
   "cell_type": "code",
   "execution_count": 86,
   "metadata": {},
   "outputs": [],
   "source": [
    "fake = pd.read_csv(\"Fake.csv\")\n",
    "true = pd.read_csv(\"True.csv\")"
   ]
  },
  {
   "cell_type": "code",
   "execution_count": 87,
   "metadata": {},
   "outputs": [
    {
     "data": {
      "text/html": [
       "<div>\n",
       "<style scoped>\n",
       "    .dataframe tbody tr th:only-of-type {\n",
       "        vertical-align: middle;\n",
       "    }\n",
       "\n",
       "    .dataframe tbody tr th {\n",
       "        vertical-align: top;\n",
       "    }\n",
       "\n",
       "    .dataframe thead th {\n",
       "        text-align: right;\n",
       "    }\n",
       "</style>\n",
       "<table border=\"1\" class=\"dataframe\">\n",
       "  <thead>\n",
       "    <tr style=\"text-align: right;\">\n",
       "      <th></th>\n",
       "      <th>title</th>\n",
       "      <th>text</th>\n",
       "      <th>subject</th>\n",
       "      <th>date</th>\n",
       "      <th>target</th>\n",
       "    </tr>\n",
       "  </thead>\n",
       "  <tbody>\n",
       "    <tr>\n",
       "      <th>0</th>\n",
       "      <td>Donald Trump Sends Out Embarrassing New Year’...</td>\n",
       "      <td>Donald Trump just couldn t wish all Americans ...</td>\n",
       "      <td>News</td>\n",
       "      <td>December 31, 2017</td>\n",
       "      <td>fake</td>\n",
       "    </tr>\n",
       "    <tr>\n",
       "      <th>1</th>\n",
       "      <td>Drunk Bragging Trump Staffer Started Russian ...</td>\n",
       "      <td>House Intelligence Committee Chairman Devin Nu...</td>\n",
       "      <td>News</td>\n",
       "      <td>December 31, 2017</td>\n",
       "      <td>fake</td>\n",
       "    </tr>\n",
       "    <tr>\n",
       "      <th>2</th>\n",
       "      <td>Sheriff David Clarke Becomes An Internet Joke...</td>\n",
       "      <td>On Friday, it was revealed that former Milwauk...</td>\n",
       "      <td>News</td>\n",
       "      <td>December 30, 2017</td>\n",
       "      <td>fake</td>\n",
       "    </tr>\n",
       "    <tr>\n",
       "      <th>3</th>\n",
       "      <td>Trump Is So Obsessed He Even Has Obama’s Name...</td>\n",
       "      <td>On Christmas day, Donald Trump announced that ...</td>\n",
       "      <td>News</td>\n",
       "      <td>December 29, 2017</td>\n",
       "      <td>fake</td>\n",
       "    </tr>\n",
       "    <tr>\n",
       "      <th>4</th>\n",
       "      <td>Pope Francis Just Called Out Donald Trump Dur...</td>\n",
       "      <td>Pope Francis used his annual Christmas Day mes...</td>\n",
       "      <td>News</td>\n",
       "      <td>December 25, 2017</td>\n",
       "      <td>fake</td>\n",
       "    </tr>\n",
       "  </tbody>\n",
       "</table>\n",
       "</div>"
      ],
      "text/plain": [
       "                                               title  \\\n",
       "0   Donald Trump Sends Out Embarrassing New Year’...   \n",
       "1   Drunk Bragging Trump Staffer Started Russian ...   \n",
       "2   Sheriff David Clarke Becomes An Internet Joke...   \n",
       "3   Trump Is So Obsessed He Even Has Obama’s Name...   \n",
       "4   Pope Francis Just Called Out Donald Trump Dur...   \n",
       "\n",
       "                                                text subject  \\\n",
       "0  Donald Trump just couldn t wish all Americans ...    News   \n",
       "1  House Intelligence Committee Chairman Devin Nu...    News   \n",
       "2  On Friday, it was revealed that former Milwauk...    News   \n",
       "3  On Christmas day, Donald Trump announced that ...    News   \n",
       "4  Pope Francis used his annual Christmas Day mes...    News   \n",
       "\n",
       "                date target  \n",
       "0  December 31, 2017   fake  \n",
       "1  December 31, 2017   fake  \n",
       "2  December 30, 2017   fake  \n",
       "3  December 29, 2017   fake  \n",
       "4  December 25, 2017   fake  "
      ]
     },
     "execution_count": 87,
     "metadata": {},
     "output_type": "execute_result"
    }
   ],
   "source": [
    "fake['target'] = 'fake'\n",
    "true['target'] = 'true'\n",
    "data = pd.concat([fake, true]).reset_index(drop = True)\n",
    "#data = shuffle(data)\n",
    "#print(data)\n",
    "#data=data.iloc[:5]\n",
    "data.shape\n",
    "#print(data)\n",
    "#print(type(data))\n",
    "data.head()\n"
   ]
  },
  {
   "cell_type": "code",
   "execution_count": 88,
   "metadata": {},
   "outputs": [
    {
     "data": {
      "text/html": [
       "<div>\n",
       "<style scoped>\n",
       "    .dataframe tbody tr th:only-of-type {\n",
       "        vertical-align: middle;\n",
       "    }\n",
       "\n",
       "    .dataframe tbody tr th {\n",
       "        vertical-align: top;\n",
       "    }\n",
       "\n",
       "    .dataframe thead th {\n",
       "        text-align: right;\n",
       "    }\n",
       "</style>\n",
       "<table border=\"1\" class=\"dataframe\">\n",
       "  <thead>\n",
       "    <tr style=\"text-align: right;\">\n",
       "      <th></th>\n",
       "      <th>text</th>\n",
       "      <th>subject</th>\n",
       "      <th>target</th>\n",
       "    </tr>\n",
       "  </thead>\n",
       "  <tbody>\n",
       "    <tr>\n",
       "      <th>0</th>\n",
       "      <td>donald trump just couldn t wish all americans ...</td>\n",
       "      <td>News</td>\n",
       "      <td>fake</td>\n",
       "    </tr>\n",
       "    <tr>\n",
       "      <th>1</th>\n",
       "      <td>house intelligence committee chairman devin nu...</td>\n",
       "      <td>News</td>\n",
       "      <td>fake</td>\n",
       "    </tr>\n",
       "    <tr>\n",
       "      <th>2</th>\n",
       "      <td>on friday, it was revealed that former milwauk...</td>\n",
       "      <td>News</td>\n",
       "      <td>fake</td>\n",
       "    </tr>\n",
       "    <tr>\n",
       "      <th>3</th>\n",
       "      <td>on christmas day, donald trump announced that ...</td>\n",
       "      <td>News</td>\n",
       "      <td>fake</td>\n",
       "    </tr>\n",
       "    <tr>\n",
       "      <th>4</th>\n",
       "      <td>pope francis used his annual christmas day mes...</td>\n",
       "      <td>News</td>\n",
       "      <td>fake</td>\n",
       "    </tr>\n",
       "  </tbody>\n",
       "</table>\n",
       "</div>"
      ],
      "text/plain": [
       "                                                text subject target\n",
       "0  donald trump just couldn t wish all americans ...    News   fake\n",
       "1  house intelligence committee chairman devin nu...    News   fake\n",
       "2  on friday, it was revealed that former milwauk...    News   fake\n",
       "3  on christmas day, donald trump announced that ...    News   fake\n",
       "4  pope francis used his annual christmas day mes...    News   fake"
      ]
     },
     "execution_count": 88,
     "metadata": {},
     "output_type": "execute_result"
    }
   ],
   "source": [
    "data.drop([\"date\"],axis=1,inplace=True)\n",
    "data.head()\n",
    "data.drop([\"title\"],axis=1,inplace=True)\n",
    "data.head()\n",
    "data['text'] = data['text'].apply(lambda x: x.lower())\n",
    "data.head()"
   ]
  },
  {
   "cell_type": "code",
   "execution_count": 89,
   "metadata": {},
   "outputs": [
    {
     "name": "stderr",
     "output_type": "stream",
     "text": [
      "[nltk_data] Downloading package stopwords to /Users/evan/nltk_data...\n",
      "[nltk_data]   Package stopwords is already up-to-date!\n"
     ]
    }
   ],
   "source": [
    "import string\n",
    "\n",
    "def punctuation_removal(text):\n",
    "    all_list = [char for char in text if char not in string.punctuation]\n",
    "    clean_str = ''.join(all_list)\n",
    "    return clean_str\n",
    "\n",
    "data['text'] = data['text'].apply(punctuation_removal)\n",
    "data.head()\n",
    "\n",
    "import nltk\n",
    "nltk.download('stopwords')\n",
    "from nltk.corpus import stopwords\n",
    "stop = stopwords.words('english')\n",
    "\n",
    "data['text'] = data['text'].apply(lambda x: ' '.join([word for word in x.split() if word not in (stop)]))"
   ]
  },
  {
   "cell_type": "code",
   "execution_count": 96,
   "metadata": {},
   "outputs": [
    {
     "name": "stdout",
     "output_type": "stream",
     "text": [
      "<class 'pandas.core.frame.DataFrame'>\n",
      "<class 'pandas.core.frame.DataFrame'>\n",
      "<class 'pandas.core.frame.DataFrame'>\n",
      "d =                                                  text subject target\n",
      "0  donald trump wish americans happy new year lea...    News   fake\n",
      "1  house intelligence committee chairman devin nu...    News   fake\n",
      "2  friday revealed former milwaukee sheriff david...    News   fake\n",
      "3  christmas day donald trump announced would bac...    News   fake\n",
      "4  pope francis used annual christmas day message...    News   fake\n",
      "5  number cases cops brutalizing killing people c...    News   fake\n",
      "6  donald trump spent good portion day golf club ...    News   fake\n",
      "7  wake yet another court decision derailed donal...    News   fake\n",
      "8  many people raised alarm regarding fact donald...    News   fake\n",
      "9  might thought get break watching people kiss d...    News   fake\n",
      "e =                                                      text    subject target\n",
      "44888  sao paulo reuters cesar mata pires owner cofou...  worldnews   true\n",
      "44889  geneva reuters north korea united states clash...  worldnews   true\n",
      "44890  geneva reuters north korea united states accus...  worldnews   true\n",
      "44891  copenhagen reuters danish police said tuesday ...  worldnews   true\n",
      "44892  united nations reuters two north korean shipme...  worldnews   true\n",
      "44893  brussels reuters nato allies tuesday welcomed ...  worldnews   true\n",
      "44894  london reuters lexisnexis provider legal regul...  worldnews   true\n",
      "44895  minsk reuters shadow disused sovietera factori...  worldnews   true\n"
     ]
    }
   ],
   "source": [
    "print(type(data))\n",
    "d=data.iloc[0:10][:]\n",
    "e=data.iloc[44888:44896][:]\n",
    "print(type(e))\n",
    "print(type(e))\n",
    "print('d = ',d)\n",
    "print('e = ',e)\n",
    "data2=pd.concat([d,e], axis=0)\n",
    "\n"
   ]
  },
  {
   "cell_type": "code",
   "execution_count": 97,
   "metadata": {},
   "outputs": [
    {
     "name": "stdout",
     "output_type": "stream",
     "text": [
      "subject\n",
      "Government News     1570\n",
      "Middle-east          778\n",
      "News                9050\n",
      "US_News              783\n",
      "left-news           4459\n",
      "politics            6841\n",
      "politicsNews       11272\n",
      "worldnews          10145\n",
      "Name: text, dtype: int64\n"
     ]
    },
    {
     "data": {
      "image/png": "[encoded data removed]",
      "text/plain": [
       "<Figure size 432x288 with 1 Axes>"
      ]
     },
     "metadata": {
      "needs_background": "light"
     },
     "output_type": "display_data"
    }
   ],
   "source": [
    "print(data.groupby(['subject'])['text'].count())\n",
    "data.groupby(['subject'])['text'].count().plot(kind=\"bar\")\n",
    "plt.show()"
   ]
  },
  {
   "cell_type": "code",
   "execution_count": 102,
   "metadata": {},
   "outputs": [
    {
     "name": "stdout",
     "output_type": "stream",
     "text": [
      "X_train =  3        christmas day donald trump announced would bac...\n",
      "44891    copenhagen reuters danish police said tuesday ...\n",
      "44894    london reuters lexisnexis provider legal regul...\n",
      "44893    brussels reuters nato allies tuesday welcomed ...\n",
      "44889    geneva reuters north korea united states clash...\n",
      "2        friday revealed former milwaukee sheriff david...\n",
      "9        might thought get break watching people kiss d...\n",
      "44895    minsk reuters shadow disused sovietera factori...\n",
      "4        pope francis used annual christmas day message...\n",
      "44890    geneva reuters north korea united states accus...\n",
      "7        wake yet another court decision derailed donal...\n",
      "44888    sao paulo reuters cesar mata pires owner cofou...\n",
      "44892    united nations reuters two north korean shipme...\n",
      "6        donald trump spent good portion day golf club ...\n",
      "Name: text, dtype: object y_train =  3        fake\n",
      "44891    true\n",
      "44894    true\n",
      "44893    true\n",
      "44889    true\n",
      "2        fake\n",
      "9        fake\n",
      "44895    true\n",
      "4        fake\n",
      "44890    true\n",
      "7        fake\n",
      "44888    true\n",
      "44892    true\n",
      "6        fake\n",
      "Name: target, dtype: object X_test =  0    donald trump wish americans happy new year lea...\n",
      "1    house intelligence committee chairman devin nu...\n",
      "8    many people raised alarm regarding fact donald...\n",
      "5    number cases cops brutalizing killing people c...\n",
      "Name: text, dtype: object y_test =  0    fake\n",
      "1    fake\n",
      "8    fake\n",
      "5    fake\n",
      "Name: target, dtype: object\n",
      "xtrain shape =  (14,)\n",
      "ytrain shape =  (14,)\n",
      "x_test shape =  (4,)\n",
      "y_test shape =  (4,)\n"
     ]
    }
   ],
   "source": [
    "X_train,X_test,y_train,y_test = train_test_split(data2['text'],data2.target,test_size=0.2,random_state=42)\n",
    "print('X_train = ',X_train,'y_train = ',y_train,'X_test = ',X_test,'y_test = ',y_test)\n",
    "print('xtrain shape = ',X_train.shape)\n",
    "print('ytrain shape = ',y_train.shape)\n",
    "print('x_test shape = ',X_test.shape)\n",
    "print('y_test shape = ',y_test.shape)\n"
   ]
  },
  {
   "cell_type": "code",
   "execution_count": 106,
   "metadata": {},
   "outputs": [
    {
     "name": "stdout",
     "output_type": "stream",
     "text": [
      "X_t =  (18,)\n",
      "3        christmas day donald trump announced would bac...\n",
      "44891    copenhagen reuters danish police said tuesday ...\n",
      "44894    london reuters lexisnexis provider legal regul...\n",
      "44893    brussels reuters nato allies tuesday welcomed ...\n",
      "44889    geneva reuters north korea united states clash...\n",
      "2        friday revealed former milwaukee sheriff david...\n",
      "9        might thought get break watching people kiss d...\n",
      "44895    minsk reuters shadow disused sovietera factori...\n",
      "4        pope francis used annual christmas day message...\n",
      "44890    geneva reuters north korea united states accus...\n",
      "7        wake yet another court decision derailed donal...\n",
      "44888    sao paulo reuters cesar mata pires owner cofou...\n",
      "44892    united nations reuters two north korean shipme...\n",
      "6        donald trump spent good portion day golf club ...\n",
      "0        donald trump wish americans happy new year lea...\n",
      "1        house intelligence committee chairman devin nu...\n",
      "8        many people raised alarm regarding fact donald...\n",
      "5        number cases cops brutalizing killing people c...\n",
      "Name: text, dtype: object\n"
     ]
    }
   ],
   "source": [
    "X_t=pd.concat([X_train,X_test])\n",
    "print('X_t = ',X_t.shape)\n",
    "ltotal=len(X_t)\n",
    "print(X_t)"
   ]
  },
  {
   "cell_type": "code",
   "execution_count": 124,
   "metadata": {},
   "outputs": [
    {
     "name": "stdout",
     "output_type": "stream",
     "text": [
      "<class 'numpy.ndarray'>\n",
      "[[0.         0.         0.         ... 0.         0.         0.        ]\n",
      " [0.         0.         0.         ... 0.         0.         0.        ]\n",
      " [0.         0.         0.         ... 0.         0.         0.        ]\n",
      " [0.         0.         0.         ... 0.11909989 0.         0.        ]]\n"
     ]
    }
   ],
   "source": [
    "\n",
    "vectorizer = TfidfVectorizer(lowercase=False)\n",
    "v = vectorizer.fit_transform(X_t)\n",
    "features=vectorizer.get_feature_names_out()\n",
    "ltrain=len(X_train)\n",
    "vtrain=v[0:ltrain][:]\n",
    "vtest=v[ltrain:][:]\n",
    "vtrain=scipy.sparse.csr_matrix.toarray(vtrain)\n",
    "vtest=scipy.sparse.csr_matrix.toarray(vtest)\n",
    "print(type(vtest))\n",
    "print(vtest)\n"
   ]
  },
  {
   "cell_type": "code",
   "execution_count": 205,
   "metadata": {},
   "outputs": [
    {
     "name": "stdout",
     "output_type": "stream",
     "text": [
      "['fake' 'fake' 'fake' 'fake']\n",
      "['true' 'true' 'true' 'true']\n",
      "accuracy: 0.0%\n"
     ]
    }
   ],
   "source": [
    "mo=LogisticRegression()\n",
    "mo.fit(vtrain,y_train)\n",
    "m=mo.predict(vtest)\n",
    "m=np.array(m)\n",
    "y_test=np.array(y_test)\n",
    "print(y_test)\n",
    "print(m)\n",
    "\n",
    "print(\"accuracy: {}%\".format(round(accuracy_score(y_test, m)*100,2)))"
   ]
  },
  {
   "cell_type": "code",
   "execution_count": 215,
   "metadata": {},
   "outputs": [
    {
     "name": "stdout",
     "output_type": "stream",
     "text": [
      "v3 =    (0, 799)\t1.0\n",
      "  (1, 1609)\t1.0\n",
      "  (2, 779)\t1.0\n",
      "  (3, 1207)\t1.0\n",
      "  (4, 1700)\t1.0\n",
      "  (5, 493)\t1.0\n",
      "  (6, 378)\t1.0\n",
      "  (7, 428)\t1.0\n",
      "  (8, 910)\t1.0\n",
      "  (9, 1672)\t1.0\n",
      "  (10, 1669)\t1.0\n",
      "  (11, 602)\t1.0\n",
      "  (12, 1927)\t1.0\n",
      "  (13, 94)\t1.0\n",
      "  (14, 638)\t1.0\n",
      "  (15, 1657)\t1.0\n",
      "  (16, 1338)\t1.0\n",
      "  (17, 1014)\t1.0\n",
      "  (18, 293)\t1.0\n",
      "  (19, 1636)\t1.0\n",
      "  (20, 1396)\t1.0\n",
      "  (21, 378)\t1.0\n",
      "  (22, 741)\t1.0\n",
      "  (23, 1357)\t1.0\n",
      "  (24, 484)\t1.0\n",
      "  :\t:\n",
      "  (314, 1621)\t1.0\n",
      "  (315, 505)\t1.0\n",
      "  (316, 54)\t1.0\n",
      "  (317, 38)\t1.0\n",
      "  (318, 1879)\t1.0\n",
      "  (319, 58)\t1.0\n",
      "  (320, 267)\t1.0\n",
      "  (321, 1158)\t1.0\n",
      "  (322, 567)\t1.0\n",
      "  (323, 1877)\t1.0\n",
      "  (324, 378)\t1.0\n",
      "  (325, 1207)\t1.0\n",
      "  (326, 461)\t1.0\n",
      "  (327, 1012)\t1.0\n",
      "  (328, 340)\t1.0\n",
      "  (329, 168)\t1.0\n",
      "  (330, 1984)\t1.0\n",
      "  (331, 913)\t1.0\n",
      "  (332, 1882)\t1.0\n",
      "  (333, 1409)\t1.0\n",
      "  (334, 1572)\t1.0\n",
      "  (335, 648)\t1.0\n",
      "  (336, 1746)\t1.0\n",
      "  (337, 1400)\t1.0\n",
      "  (338, 942)\t1.0\n",
      "fonction p lancée\n"
     ]
    },
    {
     "ename": "ValueError",
     "evalue": "Expected 2D array, got 1D array instead:\narray=[<339x2085 sparse matrix of type '<class 'numpy.float64'>'\n \twith 339 stored elements in Compressed Sparse Row format>].\nReshape your data either using array.reshape(-1, 1) if your data has a single feature or array.reshape(1, -1) if it contains a single sample.",
     "output_type": "error",
     "traceback": [
      "\u001b[0;31m---------------------------------------------------------------------------\u001b[0m",
      "\u001b[0;31mValueError\u001b[0m                                Traceback (most recent call last)",
      "\u001b[1;32m/Users/evan/Library/CloudStorage/OneDrive-Personal/Stage/St Cyr/EMSCC-FakeNewsProject/testlime.ipynb Cell 12'\u001b[0m in \u001b[0;36m<cell line: 12>\u001b[0;34m()\u001b[0m\n\u001b[1;32m      <a href='vscode-notebook-cell:/Users/evan/Library/CloudStorage/OneDrive-Personal/Stage/St%20Cyr/EMSCC-FakeNewsProject/testlime.ipynb#ch0000011?line=6'>7</a>\u001b[0m     \u001b[39mreturn\u001b[39;00m(r3)\n\u001b[1;32m     <a href='vscode-notebook-cell:/Users/evan/Library/CloudStorage/OneDrive-Personal/Stage/St%20Cyr/EMSCC-FakeNewsProject/testlime.ipynb#ch0000011?line=9'>10</a>\u001b[0m \u001b[39m#xk=p(['test'])\u001b[39;00m\n\u001b[1;32m     <a href='vscode-notebook-cell:/Users/evan/Library/CloudStorage/OneDrive-Personal/Stage/St%20Cyr/EMSCC-FakeNewsProject/testlime.ipynb#ch0000011?line=10'>11</a>\u001b[0m \u001b[39m#print(xk)\u001b[39;00m\n\u001b[0;32m---> <a href='vscode-notebook-cell:/Users/evan/Library/CloudStorage/OneDrive-Personal/Stage/St%20Cyr/EMSCC-FakeNewsProject/testlime.ipynb#ch0000011?line=11'>12</a>\u001b[0m x\u001b[39m=\u001b[39mp(X_train[\u001b[39m2\u001b[39;49m]\u001b[39m.\u001b[39;49msplit(\u001b[39m\"\u001b[39;49m\u001b[39m \u001b[39;49m\u001b[39m\"\u001b[39;49m))\n\u001b[1;32m     <a href='vscode-notebook-cell:/Users/evan/Library/CloudStorage/OneDrive-Personal/Stage/St%20Cyr/EMSCC-FakeNewsProject/testlime.ipynb#ch0000011?line=12'>13</a>\u001b[0m \u001b[39m#print(X_train[2])\u001b[39;00m\n\u001b[1;32m     <a href='vscode-notebook-cell:/Users/evan/Library/CloudStorage/OneDrive-Personal/Stage/St%20Cyr/EMSCC-FakeNewsProject/testlime.ipynb#ch0000011?line=13'>14</a>\u001b[0m \u001b[39mprint\u001b[39m(np\u001b[39m.\u001b[39mshape(x))\n",
      "\u001b[1;32m/Users/evan/Library/CloudStorage/OneDrive-Personal/Stage/St Cyr/EMSCC-FakeNewsProject/testlime.ipynb Cell 12'\u001b[0m in \u001b[0;36mp\u001b[0;34m(news)\u001b[0m\n\u001b[1;32m      <a href='vscode-notebook-cell:/Users/evan/Library/CloudStorage/OneDrive-Personal/Stage/St%20Cyr/EMSCC-FakeNewsProject/testlime.ipynb#ch0000011?line=2'>3</a>\u001b[0m \u001b[39mprint\u001b[39m(\u001b[39m'\u001b[39m\u001b[39mv3 = \u001b[39m\u001b[39m'\u001b[39m,v3)\n\u001b[1;32m      <a href='vscode-notebook-cell:/Users/evan/Library/CloudStorage/OneDrive-Personal/Stage/St%20Cyr/EMSCC-FakeNewsProject/testlime.ipynb#ch0000011?line=3'>4</a>\u001b[0m \u001b[39mprint\u001b[39m(\u001b[39m'\u001b[39m\u001b[39mfonction p lancée\u001b[39m\u001b[39m'\u001b[39m)\n\u001b[0;32m----> <a href='vscode-notebook-cell:/Users/evan/Library/CloudStorage/OneDrive-Personal/Stage/St%20Cyr/EMSCC-FakeNewsProject/testlime.ipynb#ch0000011?line=4'>5</a>\u001b[0m r3\u001b[39m=\u001b[39mmo\u001b[39m.\u001b[39;49mpredict([v3])\n\u001b[1;32m      <a href='vscode-notebook-cell:/Users/evan/Library/CloudStorage/OneDrive-Personal/Stage/St%20Cyr/EMSCC-FakeNewsProject/testlime.ipynb#ch0000011?line=5'>6</a>\u001b[0m \u001b[39mprint\u001b[39m(\u001b[39m'\u001b[39m\u001b[39mr3 = \u001b[39m\u001b[39m'\u001b[39m,r3)\n\u001b[1;32m      <a href='vscode-notebook-cell:/Users/evan/Library/CloudStorage/OneDrive-Personal/Stage/St%20Cyr/EMSCC-FakeNewsProject/testlime.ipynb#ch0000011?line=6'>7</a>\u001b[0m \u001b[39mreturn\u001b[39;00m(r3)\n",
      "File \u001b[0;32m~/opt/anaconda3/envs/NLP/lib/python3.9/site-packages/sklearn/linear_model/_base.py:447\u001b[0m, in \u001b[0;36mLinearClassifierMixin.predict\u001b[0;34m(self, X)\u001b[0m\n\u001b[1;32m    <a href='file:///Users/evan/opt/anaconda3/envs/NLP/lib/python3.9/site-packages/sklearn/linear_model/_base.py?line=432'>433</a>\u001b[0m \u001b[39mdef\u001b[39;00m \u001b[39mpredict\u001b[39m(\u001b[39mself\u001b[39m, X):\n\u001b[1;32m    <a href='file:///Users/evan/opt/anaconda3/envs/NLP/lib/python3.9/site-packages/sklearn/linear_model/_base.py?line=433'>434</a>\u001b[0m     \u001b[39m\"\"\"\u001b[39;00m\n\u001b[1;32m    <a href='file:///Users/evan/opt/anaconda3/envs/NLP/lib/python3.9/site-packages/sklearn/linear_model/_base.py?line=434'>435</a>\u001b[0m \u001b[39m    Predict class labels for samples in X.\u001b[39;00m\n\u001b[1;32m    <a href='file:///Users/evan/opt/anaconda3/envs/NLP/lib/python3.9/site-packages/sklearn/linear_model/_base.py?line=435'>436</a>\u001b[0m \n\u001b[0;32m   (...)\u001b[0m\n\u001b[1;32m    <a href='file:///Users/evan/opt/anaconda3/envs/NLP/lib/python3.9/site-packages/sklearn/linear_model/_base.py?line=444'>445</a>\u001b[0m \u001b[39m        Vector containing the class labels for each sample.\u001b[39;00m\n\u001b[1;32m    <a href='file:///Users/evan/opt/anaconda3/envs/NLP/lib/python3.9/site-packages/sklearn/linear_model/_base.py?line=445'>446</a>\u001b[0m \u001b[39m    \"\"\"\u001b[39;00m\n\u001b[0;32m--> <a href='file:///Users/evan/opt/anaconda3/envs/NLP/lib/python3.9/site-packages/sklearn/linear_model/_base.py?line=446'>447</a>\u001b[0m     scores \u001b[39m=\u001b[39m \u001b[39mself\u001b[39;49m\u001b[39m.\u001b[39;49mdecision_function(X)\n\u001b[1;32m    <a href='file:///Users/evan/opt/anaconda3/envs/NLP/lib/python3.9/site-packages/sklearn/linear_model/_base.py?line=447'>448</a>\u001b[0m     \u001b[39mif\u001b[39;00m \u001b[39mlen\u001b[39m(scores\u001b[39m.\u001b[39mshape) \u001b[39m==\u001b[39m \u001b[39m1\u001b[39m:\n\u001b[1;32m    <a href='file:///Users/evan/opt/anaconda3/envs/NLP/lib/python3.9/site-packages/sklearn/linear_model/_base.py?line=448'>449</a>\u001b[0m         indices \u001b[39m=\u001b[39m (scores \u001b[39m>\u001b[39m \u001b[39m0\u001b[39m)\u001b[39m.\u001b[39mastype(\u001b[39mint\u001b[39m)\n",
      "File \u001b[0;32m~/opt/anaconda3/envs/NLP/lib/python3.9/site-packages/sklearn/linear_model/_base.py:429\u001b[0m, in \u001b[0;36mLinearClassifierMixin.decision_function\u001b[0;34m(self, X)\u001b[0m\n\u001b[1;32m    <a href='file:///Users/evan/opt/anaconda3/envs/NLP/lib/python3.9/site-packages/sklearn/linear_model/_base.py?line=408'>409</a>\u001b[0m \u001b[39m\"\"\"\u001b[39;00m\n\u001b[1;32m    <a href='file:///Users/evan/opt/anaconda3/envs/NLP/lib/python3.9/site-packages/sklearn/linear_model/_base.py?line=409'>410</a>\u001b[0m \u001b[39mPredict confidence scores for samples.\u001b[39;00m\n\u001b[1;32m    <a href='file:///Users/evan/opt/anaconda3/envs/NLP/lib/python3.9/site-packages/sklearn/linear_model/_base.py?line=410'>411</a>\u001b[0m \n\u001b[0;32m   (...)\u001b[0m\n\u001b[1;32m    <a href='file:///Users/evan/opt/anaconda3/envs/NLP/lib/python3.9/site-packages/sklearn/linear_model/_base.py?line=424'>425</a>\u001b[0m \u001b[39m    this class would be predicted.\u001b[39;00m\n\u001b[1;32m    <a href='file:///Users/evan/opt/anaconda3/envs/NLP/lib/python3.9/site-packages/sklearn/linear_model/_base.py?line=425'>426</a>\u001b[0m \u001b[39m\"\"\"\u001b[39;00m\n\u001b[1;32m    <a href='file:///Users/evan/opt/anaconda3/envs/NLP/lib/python3.9/site-packages/sklearn/linear_model/_base.py?line=426'>427</a>\u001b[0m check_is_fitted(\u001b[39mself\u001b[39m)\n\u001b[0;32m--> <a href='file:///Users/evan/opt/anaconda3/envs/NLP/lib/python3.9/site-packages/sklearn/linear_model/_base.py?line=428'>429</a>\u001b[0m X \u001b[39m=\u001b[39m \u001b[39mself\u001b[39;49m\u001b[39m.\u001b[39;49m_validate_data(X, accept_sparse\u001b[39m=\u001b[39;49m\u001b[39m\"\u001b[39;49m\u001b[39mcsr\u001b[39;49m\u001b[39m\"\u001b[39;49m, reset\u001b[39m=\u001b[39;49m\u001b[39mFalse\u001b[39;49;00m)\n\u001b[1;32m    <a href='file:///Users/evan/opt/anaconda3/envs/NLP/lib/python3.9/site-packages/sklearn/linear_model/_base.py?line=429'>430</a>\u001b[0m scores \u001b[39m=\u001b[39m safe_sparse_dot(X, \u001b[39mself\u001b[39m\u001b[39m.\u001b[39mcoef_\u001b[39m.\u001b[39mT, dense_output\u001b[39m=\u001b[39m\u001b[39mTrue\u001b[39;00m) \u001b[39m+\u001b[39m \u001b[39mself\u001b[39m\u001b[39m.\u001b[39mintercept_\n\u001b[1;32m    <a href='file:///Users/evan/opt/anaconda3/envs/NLP/lib/python3.9/site-packages/sklearn/linear_model/_base.py?line=430'>431</a>\u001b[0m \u001b[39mreturn\u001b[39;00m scores\u001b[39m.\u001b[39mravel() \u001b[39mif\u001b[39;00m scores\u001b[39m.\u001b[39mshape[\u001b[39m1\u001b[39m] \u001b[39m==\u001b[39m \u001b[39m1\u001b[39m \u001b[39melse\u001b[39;00m scores\n",
      "File \u001b[0;32m~/opt/anaconda3/envs/NLP/lib/python3.9/site-packages/sklearn/base.py:577\u001b[0m, in \u001b[0;36mBaseEstimator._validate_data\u001b[0;34m(self, X, y, reset, validate_separately, **check_params)\u001b[0m\n\u001b[1;32m    <a href='file:///Users/evan/opt/anaconda3/envs/NLP/lib/python3.9/site-packages/sklearn/base.py?line=574'>575</a>\u001b[0m     \u001b[39mraise\u001b[39;00m \u001b[39mValueError\u001b[39;00m(\u001b[39m\"\u001b[39m\u001b[39mValidation should be done on X, y or both.\u001b[39m\u001b[39m\"\u001b[39m)\n\u001b[1;32m    <a href='file:///Users/evan/opt/anaconda3/envs/NLP/lib/python3.9/site-packages/sklearn/base.py?line=575'>576</a>\u001b[0m \u001b[39melif\u001b[39;00m \u001b[39mnot\u001b[39;00m no_val_X \u001b[39mand\u001b[39;00m no_val_y:\n\u001b[0;32m--> <a href='file:///Users/evan/opt/anaconda3/envs/NLP/lib/python3.9/site-packages/sklearn/base.py?line=576'>577</a>\u001b[0m     X \u001b[39m=\u001b[39m check_array(X, input_name\u001b[39m=\u001b[39;49m\u001b[39m\"\u001b[39;49m\u001b[39mX\u001b[39;49m\u001b[39m\"\u001b[39;49m, \u001b[39m*\u001b[39;49m\u001b[39m*\u001b[39;49mcheck_params)\n\u001b[1;32m    <a href='file:///Users/evan/opt/anaconda3/envs/NLP/lib/python3.9/site-packages/sklearn/base.py?line=577'>578</a>\u001b[0m     out \u001b[39m=\u001b[39m X\n\u001b[1;32m    <a href='file:///Users/evan/opt/anaconda3/envs/NLP/lib/python3.9/site-packages/sklearn/base.py?line=578'>579</a>\u001b[0m \u001b[39melif\u001b[39;00m no_val_X \u001b[39mand\u001b[39;00m \u001b[39mnot\u001b[39;00m no_val_y:\n",
      "File \u001b[0;32m~/opt/anaconda3/envs/NLP/lib/python3.9/site-packages/sklearn/utils/validation.py:879\u001b[0m, in \u001b[0;36mcheck_array\u001b[0;34m(array, accept_sparse, accept_large_sparse, dtype, order, copy, force_all_finite, ensure_2d, allow_nd, ensure_min_samples, ensure_min_features, estimator, input_name)\u001b[0m\n\u001b[1;32m    <a href='file:///Users/evan/opt/anaconda3/envs/NLP/lib/python3.9/site-packages/sklearn/utils/validation.py?line=876'>877</a>\u001b[0m     \u001b[39m# If input is 1D raise error\u001b[39;00m\n\u001b[1;32m    <a href='file:///Users/evan/opt/anaconda3/envs/NLP/lib/python3.9/site-packages/sklearn/utils/validation.py?line=877'>878</a>\u001b[0m     \u001b[39mif\u001b[39;00m array\u001b[39m.\u001b[39mndim \u001b[39m==\u001b[39m \u001b[39m1\u001b[39m:\n\u001b[0;32m--> <a href='file:///Users/evan/opt/anaconda3/envs/NLP/lib/python3.9/site-packages/sklearn/utils/validation.py?line=878'>879</a>\u001b[0m         \u001b[39mraise\u001b[39;00m \u001b[39mValueError\u001b[39;00m(\n\u001b[1;32m    <a href='file:///Users/evan/opt/anaconda3/envs/NLP/lib/python3.9/site-packages/sklearn/utils/validation.py?line=879'>880</a>\u001b[0m             \u001b[39m\"\u001b[39m\u001b[39mExpected 2D array, got 1D array instead:\u001b[39m\u001b[39m\\n\u001b[39;00m\u001b[39marray=\u001b[39m\u001b[39m{}\u001b[39;00m\u001b[39m.\u001b[39m\u001b[39m\\n\u001b[39;00m\u001b[39m\"\u001b[39m\n\u001b[1;32m    <a href='file:///Users/evan/opt/anaconda3/envs/NLP/lib/python3.9/site-packages/sklearn/utils/validation.py?line=880'>881</a>\u001b[0m             \u001b[39m\"\u001b[39m\u001b[39mReshape your data either using array.reshape(-1, 1) if \u001b[39m\u001b[39m\"\u001b[39m\n\u001b[1;32m    <a href='file:///Users/evan/opt/anaconda3/envs/NLP/lib/python3.9/site-packages/sklearn/utils/validation.py?line=881'>882</a>\u001b[0m             \u001b[39m\"\u001b[39m\u001b[39myour data has a single feature or array.reshape(1, -1) \u001b[39m\u001b[39m\"\u001b[39m\n\u001b[1;32m    <a href='file:///Users/evan/opt/anaconda3/envs/NLP/lib/python3.9/site-packages/sklearn/utils/validation.py?line=882'>883</a>\u001b[0m             \u001b[39m\"\u001b[39m\u001b[39mif it contains a single sample.\u001b[39m\u001b[39m\"\u001b[39m\u001b[39m.\u001b[39mformat(array)\n\u001b[1;32m    <a href='file:///Users/evan/opt/anaconda3/envs/NLP/lib/python3.9/site-packages/sklearn/utils/validation.py?line=883'>884</a>\u001b[0m         )\n\u001b[1;32m    <a href='file:///Users/evan/opt/anaconda3/envs/NLP/lib/python3.9/site-packages/sklearn/utils/validation.py?line=885'>886</a>\u001b[0m \u001b[39mif\u001b[39;00m dtype_numeric \u001b[39mand\u001b[39;00m array\u001b[39m.\u001b[39mdtype\u001b[39m.\u001b[39mkind \u001b[39min\u001b[39;00m \u001b[39m\"\u001b[39m\u001b[39mUSV\u001b[39m\u001b[39m\"\u001b[39m:\n\u001b[1;32m    <a href='file:///Users/evan/opt/anaconda3/envs/NLP/lib/python3.9/site-packages/sklearn/utils/validation.py?line=886'>887</a>\u001b[0m     \u001b[39mraise\u001b[39;00m \u001b[39mValueError\u001b[39;00m(\n\u001b[1;32m    <a href='file:///Users/evan/opt/anaconda3/envs/NLP/lib/python3.9/site-packages/sklearn/utils/validation.py?line=887'>888</a>\u001b[0m         \u001b[39m\"\u001b[39m\u001b[39mdtype=\u001b[39m\u001b[39m'\u001b[39m\u001b[39mnumeric\u001b[39m\u001b[39m'\u001b[39m\u001b[39m is not compatible with arrays of bytes/strings.\u001b[39m\u001b[39m\"\u001b[39m\n\u001b[1;32m    <a href='file:///Users/evan/opt/anaconda3/envs/NLP/lib/python3.9/site-packages/sklearn/utils/validation.py?line=888'>889</a>\u001b[0m         \u001b[39m\"\u001b[39m\u001b[39mConvert your data to numeric values explicitly instead.\u001b[39m\u001b[39m\"\u001b[39m\n\u001b[1;32m    <a href='file:///Users/evan/opt/anaconda3/envs/NLP/lib/python3.9/site-packages/sklearn/utils/validation.py?line=889'>890</a>\u001b[0m     )\n",
      "\u001b[0;31mValueError\u001b[0m: Expected 2D array, got 1D array instead:\narray=[<339x2085 sparse matrix of type '<class 'numpy.float64'>'\n \twith 339 stored elements in Compressed Sparse Row format>].\nReshape your data either using array.reshape(-1, 1) if your data has a single feature or array.reshape(1, -1) if it contains a single sample."
     ]
    }
   ],
   "source": [
    "def p(news):\n",
    "    v3=vectorizer.transform(news)\n",
    "    print('v3 = ',v3)\n",
    "    print('fonction p lancée')\n",
    "    r3=mo.predict([v3])\n",
    "    print('r3 = ',r3)\n",
    "    return(r3)\n",
    "\n",
    "\n",
    "#xk=p(['test'])\n",
    "#print(xk)\n",
    "x=p(X_train[2].split(\" \"))\n",
    "#print(X_train[2])\n",
    "print(np.shape(x))\n",
    "#print((X_train[2].split(\" \")))\n",
    "\n",
    "#explainer = lime_tabular.LimeTabularExplainer(vtrain,mode=\"regression\")\n",
    "#explainer.explain_instance(data_row=X_train[2].split(\" \"),predict_fn=p, labels=features)"
   ]
  },
  {
   "cell_type": "code",
   "execution_count": null,
   "metadata": {},
   "outputs": [],
   "source": []
  },
  {
   "cell_type": "code",
   "execution_count": null,
   "metadata": {},
   "outputs": [],
   "source": []
  },
  {
   "cell_type": "code",
   "execution_count": null,
   "metadata": {},
   "outputs": [],
   "source": []
  }
 ],
 "metadata": {
  "interpreter": {
   "hash": "52fd7cfe315652c26f116941759022c1154f5724bf85b7c7e9d121c272da0755"
  },
  "kernelspec": {
   "display_name": "Python 3.9.12 ('NLP')",
   "language": "python",
   "name": "python3"
  },
  "language_info": {
   "codemirror_mode": {
    "name": "ipython",
    "version": 3
   },
   "file_extension": ".py",
   "mimetype": "text/x-python",
   "name": "python",
   "nbconvert_exporter": "python",
   "pygments_lexer": "ipython3",
   "version": "3.9.12"
  },
  "orig_nbformat": 4
 },
 "nbformat": 4,
 "nbformat_minor": 2
}
