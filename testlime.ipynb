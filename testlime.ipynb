{
 "cells": [
  {
   "cell_type": "code",
   "execution_count": 229,
   "metadata": {},
   "outputs": [],
   "source": [
    "import pandas as pd\n",
    "import numpy as np\n",
    "import matplotlib.pyplot as plt\n",
    "import seaborn as sns \n",
    "from sklearn.feature_extraction.text import CountVectorizer\n",
    "from sklearn.feature_extraction.text import TfidfTransformer\n",
    "from sklearn import feature_extraction, linear_model, model_selection, preprocessing\n",
    "from sklearn.metrics import accuracy_score\n",
    "from sklearn.model_selection import train_test_split\n",
    "from sklearn.pipeline import Pipeline\n",
    "from sklearn.utils import shuffle\n",
    "from sklearn.linear_model import LogisticRegression\n",
    "from sklearn.feature_extraction.text import TfidfVectorizer\n",
    "import scipy\n",
    "from lime import lime_tabular"
   ]
  },
  {
   "cell_type": "code",
   "execution_count": 230,
   "metadata": {},
   "outputs": [],
   "source": [
    "fake = pd.read_csv(\"Fake.csv\")\n",
    "true = pd.read_csv(\"True.csv\")"
   ]
  },
  {
   "cell_type": "code",
   "execution_count": 231,
   "metadata": {},
   "outputs": [
    {
     "data": {
      "text/html": [
       "<div>\n",
       "<style scoped>\n",
       "    .dataframe tbody tr th:only-of-type {\n",
       "        vertical-align: middle;\n",
       "    }\n",
       "\n",
       "    .dataframe tbody tr th {\n",
       "        vertical-align: top;\n",
       "    }\n",
       "\n",
       "    .dataframe thead th {\n",
       "        text-align: right;\n",
       "    }\n",
       "</style>\n",
       "<table border=\"1\" class=\"dataframe\">\n",
       "  <thead>\n",
       "    <tr style=\"text-align: right;\">\n",
       "      <th></th>\n",
       "      <th>title</th>\n",
       "      <th>text</th>\n",
       "      <th>subject</th>\n",
       "      <th>date</th>\n",
       "      <th>target</th>\n",
       "    </tr>\n",
       "  </thead>\n",
       "  <tbody>\n",
       "    <tr>\n",
       "      <th>0</th>\n",
       "      <td>Donald Trump Sends Out Embarrassing New Year’...</td>\n",
       "      <td>Donald Trump just couldn t wish all Americans ...</td>\n",
       "      <td>News</td>\n",
       "      <td>December 31, 2017</td>\n",
       "      <td>fake</td>\n",
       "    </tr>\n",
       "    <tr>\n",
       "      <th>1</th>\n",
       "      <td>Drunk Bragging Trump Staffer Started Russian ...</td>\n",
       "      <td>House Intelligence Committee Chairman Devin Nu...</td>\n",
       "      <td>News</td>\n",
       "      <td>December 31, 2017</td>\n",
       "      <td>fake</td>\n",
       "    </tr>\n",
       "    <tr>\n",
       "      <th>2</th>\n",
       "      <td>Sheriff David Clarke Becomes An Internet Joke...</td>\n",
       "      <td>On Friday, it was revealed that former Milwauk...</td>\n",
       "      <td>News</td>\n",
       "      <td>December 30, 2017</td>\n",
       "      <td>fake</td>\n",
       "    </tr>\n",
       "    <tr>\n",
       "      <th>3</th>\n",
       "      <td>Trump Is So Obsessed He Even Has Obama’s Name...</td>\n",
       "      <td>On Christmas day, Donald Trump announced that ...</td>\n",
       "      <td>News</td>\n",
       "      <td>December 29, 2017</td>\n",
       "      <td>fake</td>\n",
       "    </tr>\n",
       "    <tr>\n",
       "      <th>4</th>\n",
       "      <td>Pope Francis Just Called Out Donald Trump Dur...</td>\n",
       "      <td>Pope Francis used his annual Christmas Day mes...</td>\n",
       "      <td>News</td>\n",
       "      <td>December 25, 2017</td>\n",
       "      <td>fake</td>\n",
       "    </tr>\n",
       "  </tbody>\n",
       "</table>\n",
       "</div>"
      ],
      "text/plain": [
       "                                               title  \\\n",
       "0   Donald Trump Sends Out Embarrassing New Year’...   \n",
       "1   Drunk Bragging Trump Staffer Started Russian ...   \n",
       "2   Sheriff David Clarke Becomes An Internet Joke...   \n",
       "3   Trump Is So Obsessed He Even Has Obama’s Name...   \n",
       "4   Pope Francis Just Called Out Donald Trump Dur...   \n",
       "\n",
       "                                                text subject  \\\n",
       "0  Donald Trump just couldn t wish all Americans ...    News   \n",
       "1  House Intelligence Committee Chairman Devin Nu...    News   \n",
       "2  On Friday, it was revealed that former Milwauk...    News   \n",
       "3  On Christmas day, Donald Trump announced that ...    News   \n",
       "4  Pope Francis used his annual Christmas Day mes...    News   \n",
       "\n",
       "                date target  \n",
       "0  December 31, 2017   fake  \n",
       "1  December 31, 2017   fake  \n",
       "2  December 30, 2017   fake  \n",
       "3  December 29, 2017   fake  \n",
       "4  December 25, 2017   fake  "
      ]
     },
     "execution_count": 231,
     "metadata": {},
     "output_type": "execute_result"
    }
   ],
   "source": [
    "fake['target'] = 'fake'\n",
    "true['target'] = 'true'\n",
    "data = pd.concat([fake, true]).reset_index(drop = True)\n",
    "#data = shuffle(data)\n",
    "#print(data)\n",
    "#data=data.iloc[:5]\n",
    "data.shape\n",
    "#print(data)\n",
    "#print(type(data))\n",
    "data.head()\n"
   ]
  },
  {
   "cell_type": "code",
   "execution_count": 232,
   "metadata": {},
   "outputs": [
    {
     "data": {
      "text/html": [
       "<div>\n",
       "<style scoped>\n",
       "    .dataframe tbody tr th:only-of-type {\n",
       "        vertical-align: middle;\n",
       "    }\n",
       "\n",
       "    .dataframe tbody tr th {\n",
       "        vertical-align: top;\n",
       "    }\n",
       "\n",
       "    .dataframe thead th {\n",
       "        text-align: right;\n",
       "    }\n",
       "</style>\n",
       "<table border=\"1\" class=\"dataframe\">\n",
       "  <thead>\n",
       "    <tr style=\"text-align: right;\">\n",
       "      <th></th>\n",
       "      <th>text</th>\n",
       "      <th>subject</th>\n",
       "      <th>target</th>\n",
       "    </tr>\n",
       "  </thead>\n",
       "  <tbody>\n",
       "    <tr>\n",
       "      <th>0</th>\n",
       "      <td>donald trump just couldn t wish all americans ...</td>\n",
       "      <td>News</td>\n",
       "      <td>fake</td>\n",
       "    </tr>\n",
       "    <tr>\n",
       "      <th>1</th>\n",
       "      <td>house intelligence committee chairman devin nu...</td>\n",
       "      <td>News</td>\n",
       "      <td>fake</td>\n",
       "    </tr>\n",
       "    <tr>\n",
       "      <th>2</th>\n",
       "      <td>on friday, it was revealed that former milwauk...</td>\n",
       "      <td>News</td>\n",
       "      <td>fake</td>\n",
       "    </tr>\n",
       "    <tr>\n",
       "      <th>3</th>\n",
       "      <td>on christmas day, donald trump announced that ...</td>\n",
       "      <td>News</td>\n",
       "      <td>fake</td>\n",
       "    </tr>\n",
       "    <tr>\n",
       "      <th>4</th>\n",
       "      <td>pope francis used his annual christmas day mes...</td>\n",
       "      <td>News</td>\n",
       "      <td>fake</td>\n",
       "    </tr>\n",
       "  </tbody>\n",
       "</table>\n",
       "</div>"
      ],
      "text/plain": [
       "                                                text subject target\n",
       "0  donald trump just couldn t wish all americans ...    News   fake\n",
       "1  house intelligence committee chairman devin nu...    News   fake\n",
       "2  on friday, it was revealed that former milwauk...    News   fake\n",
       "3  on christmas day, donald trump announced that ...    News   fake\n",
       "4  pope francis used his annual christmas day mes...    News   fake"
      ]
     },
     "execution_count": 232,
     "metadata": {},
     "output_type": "execute_result"
    }
   ],
   "source": [
    "data.drop([\"date\"],axis=1,inplace=True)\n",
    "data.head()\n",
    "data.drop([\"title\"],axis=1,inplace=True)\n",
    "data.head()\n",
    "data['text'] = data['text'].apply(lambda x: x.lower())\n",
    "data.head()"
   ]
  },
  {
   "cell_type": "code",
   "execution_count": 233,
   "metadata": {},
   "outputs": [
    {
     "name": "stderr",
     "output_type": "stream",
     "text": [
      "[nltk_data] Downloading package stopwords to /Users/evan/nltk_data...\n",
      "[nltk_data]   Package stopwords is already up-to-date!\n"
     ]
    }
   ],
   "source": [
    "import string\n",
    "\n",
    "def punctuation_removal(text):\n",
    "    all_list = [char for char in text if char not in string.punctuation]\n",
    "    clean_str = ''.join(all_list)\n",
    "    return clean_str\n",
    "\n",
    "data['text'] = data['text'].apply(punctuation_removal)\n",
    "data.head()\n",
    "\n",
    "import nltk\n",
    "nltk.download('stopwords')\n",
    "from nltk.corpus import stopwords\n",
    "stop = stopwords.words('english')\n",
    "\n",
    "data['text'] = data['text'].apply(lambda x: ' '.join([word for word in x.split() if word not in (stop)]))"
   ]
  },
  {
   "cell_type": "code",
   "execution_count": 234,
   "metadata": {},
   "outputs": [
    {
     "name": "stdout",
     "output_type": "stream",
     "text": [
      "<class 'pandas.core.frame.DataFrame'>\n",
      "<class 'pandas.core.frame.DataFrame'>\n",
      "<class 'pandas.core.frame.DataFrame'>\n",
      "d =                                                  text subject target\n",
      "0  donald trump wish americans happy new year lea...    News   fake\n",
      "1  house intelligence committee chairman devin nu...    News   fake\n",
      "2  friday revealed former milwaukee sheriff david...    News   fake\n",
      "3  christmas day donald trump announced would bac...    News   fake\n",
      "4  pope francis used annual christmas day message...    News   fake\n",
      "5  number cases cops brutalizing killing people c...    News   fake\n",
      "6  donald trump spent good portion day golf club ...    News   fake\n",
      "7  wake yet another court decision derailed donal...    News   fake\n",
      "8  many people raised alarm regarding fact donald...    News   fake\n",
      "9  might thought get break watching people kiss d...    News   fake\n",
      "e =                                                      text    subject target\n",
      "44888  sao paulo reuters cesar mata pires owner cofou...  worldnews   true\n",
      "44889  geneva reuters north korea united states clash...  worldnews   true\n",
      "44890  geneva reuters north korea united states accus...  worldnews   true\n",
      "44891  copenhagen reuters danish police said tuesday ...  worldnews   true\n",
      "44892  united nations reuters two north korean shipme...  worldnews   true\n",
      "44893  brussels reuters nato allies tuesday welcomed ...  worldnews   true\n",
      "44894  london reuters lexisnexis provider legal regul...  worldnews   true\n",
      "44895  minsk reuters shadow disused sovietera factori...  worldnews   true\n"
     ]
    }
   ],
   "source": [
    "print(type(data))\n",
    "d=data.iloc[0:10][:]\n",
    "e=data.iloc[44888:44896][:]\n",
    "print(type(e))\n",
    "print(type(e))\n",
    "print('d = ',d)\n",
    "print('e = ',e)\n",
    "data2=pd.concat([d,e], axis=0)\n",
    "\n"
   ]
  },
  {
   "cell_type": "code",
   "execution_count": 235,
   "metadata": {},
   "outputs": [
    {
     "name": "stdout",
     "output_type": "stream",
     "text": [
      "subject\n",
      "Government News     1570\n",
      "Middle-east          778\n",
      "News                9050\n",
      "US_News              783\n",
      "left-news           4459\n",
      "politics            6841\n",
      "politicsNews       11272\n",
      "worldnews          10145\n",
      "Name: text, dtype: int64\n"
     ]
    },
    {
     "data": {
      "image/png": "[encoded data removed]",
      "text/plain": [
       "<Figure size 432x288 with 1 Axes>"
      ]
     },
     "metadata": {
      "needs_background": "light"
     },
     "output_type": "display_data"
    }
   ],
   "source": [
    "print(data.groupby(['subject'])['text'].count())\n",
    "data.groupby(['subject'])['text'].count().plot(kind=\"bar\")\n",
    "plt.show()"
   ]
  },
  {
   "cell_type": "code",
   "execution_count": 236,
   "metadata": {},
   "outputs": [
    {
     "name": "stdout",
     "output_type": "stream",
     "text": [
      "X_train =  3        christmas day donald trump announced would bac...\n",
      "44891    copenhagen reuters danish police said tuesday ...\n",
      "44894    london reuters lexisnexis provider legal regul...\n",
      "44893    brussels reuters nato allies tuesday welcomed ...\n",
      "44889    geneva reuters north korea united states clash...\n",
      "2        friday revealed former milwaukee sheriff david...\n",
      "9        might thought get break watching people kiss d...\n",
      "44895    minsk reuters shadow disused sovietera factori...\n",
      "4        pope francis used annual christmas day message...\n",
      "44890    geneva reuters north korea united states accus...\n",
      "7        wake yet another court decision derailed donal...\n",
      "44888    sao paulo reuters cesar mata pires owner cofou...\n",
      "44892    united nations reuters two north korean shipme...\n",
      "6        donald trump spent good portion day golf club ...\n",
      "Name: text, dtype: object y_train =  3        fake\n",
      "44891    true\n",
      "44894    true\n",
      "44893    true\n",
      "44889    true\n",
      "2        fake\n",
      "9        fake\n",
      "44895    true\n",
      "4        fake\n",
      "44890    true\n",
      "7        fake\n",
      "44888    true\n",
      "44892    true\n",
      "6        fake\n",
      "Name: target, dtype: object X_test =  0    donald trump wish americans happy new year lea...\n",
      "1    house intelligence committee chairman devin nu...\n",
      "8    many people raised alarm regarding fact donald...\n",
      "5    number cases cops brutalizing killing people c...\n",
      "Name: text, dtype: object y_test =  0    fake\n",
      "1    fake\n",
      "8    fake\n",
      "5    fake\n",
      "Name: target, dtype: object\n",
      "xtrain shape =  (14,)\n",
      "ytrain shape =  (14,)\n",
      "x_test shape =  (4,)\n",
      "y_test shape =  (4,)\n"
     ]
    }
   ],
   "source": [
    "X_train,X_test,y_train,y_test = train_test_split(data2['text'],data2.target,test_size=0.2,random_state=42)\n",
    "print('X_train = ',X_train,'y_train = ',y_train,'X_test = ',X_test,'y_test = ',y_test)\n",
    "print('xtrain shape = ',X_train.shape)\n",
    "print('ytrain shape = ',y_train.shape)\n",
    "print('x_test shape = ',X_test.shape)\n",
    "print('y_test shape = ',y_test.shape)\n"
   ]
  },
  {
   "cell_type": "code",
   "execution_count": 237,
   "metadata": {},
   "outputs": [
    {
     "name": "stdout",
     "output_type": "stream",
     "text": [
      "X_t =  (18,)\n",
      "3        christmas day donald trump announced would bac...\n",
      "44891    copenhagen reuters danish police said tuesday ...\n",
      "44894    london reuters lexisnexis provider legal regul...\n",
      "44893    brussels reuters nato allies tuesday welcomed ...\n",
      "44889    geneva reuters north korea united states clash...\n",
      "2        friday revealed former milwaukee sheriff david...\n",
      "9        might thought get break watching people kiss d...\n",
      "44895    minsk reuters shadow disused sovietera factori...\n",
      "4        pope francis used annual christmas day message...\n",
      "44890    geneva reuters north korea united states accus...\n",
      "7        wake yet another court decision derailed donal...\n",
      "44888    sao paulo reuters cesar mata pires owner cofou...\n",
      "44892    united nations reuters two north korean shipme...\n",
      "6        donald trump spent good portion day golf club ...\n",
      "0        donald trump wish americans happy new year lea...\n",
      "1        house intelligence committee chairman devin nu...\n",
      "8        many people raised alarm regarding fact donald...\n",
      "5        number cases cops brutalizing killing people c...\n",
      "Name: text, dtype: object\n"
     ]
    }
   ],
   "source": [
    "X_t=pd.concat([X_train,X_test])\n",
    "print('X_t = ',X_t.shape)\n",
    "ltotal=len(X_t)\n",
    "print(X_t)"
   ]
  },
  {
   "cell_type": "code",
   "execution_count": 271,
   "metadata": {},
   "outputs": [
    {
     "name": "stdout",
     "output_type": "stream",
     "text": [
      "X_t =  3        christmas day donald trump announced would bac...\n",
      "44891    copenhagen reuters danish police said tuesday ...\n",
      "44894    london reuters lexisnexis provider legal regul...\n",
      "44893    brussels reuters nato allies tuesday welcomed ...\n",
      "44889    geneva reuters north korea united states clash...\n",
      "2        friday revealed former milwaukee sheriff david...\n",
      "9        might thought get break watching people kiss d...\n",
      "44895    minsk reuters shadow disused sovietera factori...\n",
      "4        pope francis used annual christmas day message...\n",
      "44890    geneva reuters north korea united states accus...\n",
      "7        wake yet another court decision derailed donal...\n",
      "44888    sao paulo reuters cesar mata pires owner cofou...\n",
      "44892    united nations reuters two north korean shipme...\n",
      "6        donald trump spent good portion day golf club ...\n",
      "0        donald trump wish americans happy new year lea...\n",
      "1        house intelligence committee chairman devin nu...\n",
      "8        many people raised alarm regarding fact donald...\n",
      "5        number cases cops brutalizing killing people c...\n",
      "Name: text, dtype: object\n",
      "X_t type =  <class 'pandas.core.series.Series'>\n",
      "X_t shape =  (18,)\n",
      "X_t[4] =  pope francis used annual christmas day message rebuke donald trump without even mentioning name pope delivered message days members united nations condemned trump move recognize jerusalem capital israel pontiff prayed monday peaceful coexistence two states within mutually agreed internationally recognized borders see jesus children middle east continue suffer growing tensions israelis palestinians francis said festive day let us ask lord peace jerusalem holy land let us pray resume dialogue may prevail parties negotiated solution finally reached pope went plead acceptance refugees forced homes issue trump continues fight francis used jesus place inn analogy today winds war blowing world outdated model development continues produce human societal environmental decline christmas invites us focus sign child recognize faces little children especially like jesus place inn said jesus knows well pain welcomed hard place lay one head added may hearts closed homes bethlehem pope said mary joseph immigrants struggled find safe place stay bethlehem leave people home land francis said comfortable easy journey young couple child heart full hope expectation child born yet steps weighed uncertainties dangers attend leave home behind many footsteps hidden footsteps joseph mary francis said sunday see tracks entire families forced set day see tracks millions persons choose go away driven land leave behind dear ones amen thatphoto christopher furlonggetty images\n",
      "X_t[4] type =  <class 'str'>\n",
      "v shape =  (18, 2085)\n",
      "<class 'numpy.ndarray'>\n",
      "vtest =  [[0.         0.         0.         ... 0.         0.         0.        ]\n",
      " [0.         0.         0.         ... 0.         0.         0.        ]\n",
      " [0.         0.         0.         ... 0.         0.         0.        ]\n",
      " [0.         0.         0.         ... 0.11909989 0.         0.        ]]\n",
      "vtest shape =  (4, 2085)\n",
      "FEATURES =  ['10' '11' '12000' ... 'young' 'zach' 'zhbankov']\n",
      "length features =  2085\n"
     ]
    }
   ],
   "source": [
    "\n",
    "vectorizer = TfidfVectorizer(lowercase=False)\n",
    "v = vectorizer.fit_transform(X_t)\n",
    "print('X_t = ',X_t)\n",
    "print('X_t type = ',type(X_t))\n",
    "print('X_t shape = ', X_t.shape)\n",
    "print('X_t[4] = ',X_t[4])\n",
    "print('X_t[4] type = ',type(X_t[4]))\n",
    "#print('v = ',v)\n",
    "print('v shape = ', v.shape)\n",
    "\n",
    "features=vectorizer.get_feature_names_out()\n",
    "ltrain=len(X_train)\n",
    "vtrain=v[0:ltrain][:]\n",
    "vtest=v[ltrain:][:]\n",
    "vtrain=scipy.sparse.csr_matrix.toarray(vtrain)\n",
    "vtest=scipy.sparse.csr_matrix.toarray(vtest)\n",
    "print(type(vtest))\n",
    "print('vtest = ',vtest)\n",
    "print('vtest shape = ',vtest.shape)\n",
    "print('FEATURES = ',features)\n",
    "print('length features = ', len(features))\n"
   ]
  },
  {
   "cell_type": "code",
   "execution_count": 307,
   "metadata": {},
   "outputs": [
    {
     "name": "stdout",
     "output_type": "stream",
     "text": [
      "['fake' 'fake' 'fake' 'fake']\n",
      "['true' 'true' 'true' 'true']\n",
      "accuracy: 0.0%\n"
     ]
    }
   ],
   "source": [
    "mo=LogisticRegression()\n",
    "mo.fit(vtrain,y_train)\n",
    "m=mo.predict(vtest)\n",
    "m=np.array(m)\n",
    "y_test=np.array(y_test)\n",
    "print(y_test)\n",
    "print(m)\n",
    "\n",
    "print(\"accuracy: {}%\".format(round(accuracy_score(y_test, m)*100,2)))"
   ]
  },
  {
   "cell_type": "code",
   "execution_count": 277,
   "metadata": {},
   "outputs": [
    {
     "name": "stdout",
     "output_type": "stream",
     "text": [
      "news =  friday revealed former milwaukee sheriff david clarke considered homeland security secretary donald trump administration email scandal ownin january brief runin plane clarke fellow passenger dan black later detained police reason whatsoever except maybe feelings hurt clarke messaged police stop black deplaned search warrant executed fbi see exchangesclarke calling fake news even though copies search warrant internet unintimidated lib media attempts smear discredit fake news reports designed silence former sheriff tweeted continue poke eye sharp stick bitch slap scum bags til get attacked better people maga unintimidated lib media attempts smear discredit fake news reports designed silence continue poke eye sharp stick bitch slap scum bags til get attacked better people maga pictwittercomxtzw5pdu2b david clarke jr sheriffclarke december 30 2017he stop therebreaking news lying lib media makes fake news smear antidote go right punch nose make taste blood nothing gets bully like lying lib media attention better give taste blood neverbackdown pictwittercomt2ny2pshcr david clarke jr sheriffclarke december 30 2017the internet called outthis local newspaper search warrant fake chose file charges time mean especially continue lie months decision charge clarke email search warrant filed httpstcozcbyc4wp5b keithleblanc keithleblanc63 december 30 2017i hope rest village people implicated kirk ketchum kirkketchum december 30 2017slaw baked potatoes french fries pictwittercomfwfxszupxy alt immigration altuscis december 30 2017pictwittercomymsobljfxu pendulum swinger pendulumswngr december 30 2017you called police friends stand someone made fun hat chris jackson chriscjackson december 30 2017is masterful pshop hat seem never tire think steely resolve one visible eye pictwittercomdwr5k8zezv chris mohney chrismohney december 30 2017are indicating fingers many people died jail think fingers short dipshit ike barinholtz ikebarinholtz december 30 2017rofl internet tough guy fake flair pictwittercomulcfddhkdy kellmecrazy kelmoonface december 30 2017you edgy buddy mrs smh mrssmh2 december 30 2017is break applebees aaron feltrrr2 december 30 2017are trying earn still relevant badge circusrebel circusdrew december 30 2017make sure hydrate drink lots water rumored prisoners denied water prison officials robert klinc robertklinc1 december 30 2017terrill thomas 38yearold black man died thirst clarke milwaukee county jail cell april victim homicide thought point repeated enoughphoto spencer plattgetty images\n",
      "news type =  <class 'str'>\n",
      "v3 =    (0, 2037)\t0.03589073402823138\n",
      "  (0, 2014)\t0.07178146805646277\n",
      "  (0, 2009)\t0.14356293611292553\n",
      "  (0, 1994)\t0.03589073402823138\n",
      "  (0, 1990)\t0.03589073402823138\n",
      "  (0, 1984)\t0.03589073402823138\n",
      "  (0, 1958)\t0.07178146805646277\n",
      "  (0, 1936)\t0.03141483913652237\n",
      "  (0, 1928)\t0.03141483913652237\n",
      "  (0, 1927)\t0.015228068772091331\n",
      "  (0, 1909)\t0.03589073402823138\n",
      "  (0, 1898)\t0.03589073402823138\n",
      "  (0, 1893)\t0.02376324628024352\n",
      "  (0, 1891)\t0.07178146805646277\n",
      "  (0, 1882)\t0.028239141171952534\n",
      "  (0, 1880)\t0.03141483913652237\n",
      "  (0, 1879)\t0.03589073402823138\n",
      "  (0, 1877)\t0.03589073402823138\n",
      "  (0, 1875)\t0.06282967827304474\n",
      "  (0, 1871)\t0.03589073402823138\n",
      "  (0, 1842)\t0.07178146805646277\n",
      "  (0, 1827)\t0.03589073402823138\n",
      "  (0, 1814)\t0.03589073402823138\n",
      "  (0, 1784)\t0.05647828234390507\n",
      "  (0, 1780)\t0.019287351388534515\n",
      "  :\t:\n",
      "  (0, 212)\t0.07178146805646277\n",
      "  (0, 210)\t0.03589073402823138\n",
      "  (0, 195)\t0.03589073402823138\n",
      "  (0, 193)\t0.07178146805646277\n",
      "  (0, 190)\t0.06282967827304474\n",
      "  (0, 168)\t0.03589073402823138\n",
      "  (0, 165)\t0.03589073402823138\n",
      "  (0, 155)\t0.03589073402823138\n",
      "  (0, 134)\t0.03589073402823138\n",
      "  (0, 131)\t0.03589073402823138\n",
      "  (0, 94)\t0.02577587846087693\n",
      "  (0, 72)\t0.03589073402823138\n",
      "  (0, 58)\t0.03589073402823138\n",
      "  (0, 54)\t0.5024702763952394\n",
      "  (0, 45)\t0.06282967827304474\n",
      "  (0, 40)\t0.03589073402823138\n",
      "  (0, 38)\t0.03589073402823138\n",
      "  (0, 36)\t0.03589073402823138\n",
      "  (0, 35)\t0.03589073402823138\n",
      "  (0, 34)\t0.03589073402823138\n",
      "  (0, 32)\t0.03589073402823138\n",
      "  (0, 30)\t0.07178146805646277\n",
      "  (0, 29)\t0.03589073402823138\n",
      "  (0, 27)\t0.028239141171952534\n",
      "  (0, 23)\t0.07178146805646277\n",
      "fonction p lancée\n",
      "v3 shape =  (1, 2085)\n",
      "r3 =  ['fake']\n"
     ]
    }
   ],
   "source": [
    "def p(news):\n",
    "    print('news = ',news)\n",
    "    print(\"news type = \",type(news))\n",
    "    news=pd.Series(news)\n",
    "    v3=vectorizer.transform(news)\n",
    "\n",
    "    print('v3 = ',v3)\n",
    "    print('fonction p lancée')\n",
    "\n",
    "    v3=scipy.sparse.csr_matrix.toarray(v3)\n",
    "    print('v3 shape = ',v3.shape)\n",
    "    r3=mo.predict(v3)\n",
    "    print('r3 = ',r3)\n",
    "    return(r3)\n",
    "\n",
    "\n",
    "#xk=p(['test'])\n",
    "#print(X_train[2].split(\" \"))\n",
    "#x=p(X_train[2].split(\" \"))\n",
    "x=p(X_train[2])\n",
    "#print(X_train[2])\n",
    "#print(np.shape(x))\n",
    "#print((X_train[2].split(\" \")))\n",
    "\n"
   ]
  },
  {
   "cell_type": "code",
   "execution_count": 1,
   "metadata": {},
   "outputs": [
    {
     "ename": "NameError",
     "evalue": "name 'X_test' is not defined",
     "output_type": "error",
     "traceback": [
      "\u001b[0;31m---------------------------------------------------------------------------\u001b[0m",
      "\u001b[0;31mNameError\u001b[0m                                 Traceback (most recent call last)",
      "\u001b[1;32m/Users/evan/Library/CloudStorage/OneDrive-Personal/Stage/St Cyr/EMSCC-FakeNewsProject/testlime.ipynb Cell 13'\u001b[0m in \u001b[0;36m<cell line: 11>\u001b[0;34m()\u001b[0m\n\u001b[1;32m      <a href='vscode-notebook-cell:/Users/evan/Library/CloudStorage/OneDrive-Personal/Stage/St%20Cyr/EMSCC-FakeNewsProject/testlime.ipynb#ch0000012?line=0'>1</a>\u001b[0m \u001b[39m'''\u001b[39;00m\n\u001b[1;32m      <a href='vscode-notebook-cell:/Users/evan/Library/CloudStorage/OneDrive-Personal/Stage/St%20Cyr/EMSCC-FakeNewsProject/testlime.ipynb#ch0000012?line=1'>2</a>\u001b[0m \u001b[39mfrom sklearn.naive_bayes import MultinomialNB\u001b[39;00m\n\u001b[1;32m      <a href='vscode-notebook-cell:/Users/evan/Library/CloudStorage/OneDrive-Personal/Stage/St%20Cyr/EMSCC-FakeNewsProject/testlime.ipynb#ch0000012?line=2'>3</a>\u001b[0m \n\u001b[0;32m   (...)\u001b[0m\n\u001b[1;32m      <a href='vscode-notebook-cell:/Users/evan/Library/CloudStorage/OneDrive-Personal/Stage/St%20Cyr/EMSCC-FakeNewsProject/testlime.ipynb#ch0000012?line=6'>7</a>\u001b[0m \u001b[39mmo.fit(vtrain,y_train)\u001b[39;00m\n\u001b[1;32m      <a href='vscode-notebook-cell:/Users/evan/Library/CloudStorage/OneDrive-Personal/Stage/St%20Cyr/EMSCC-FakeNewsProject/testlime.ipynb#ch0000012?line=7'>8</a>\u001b[0m \u001b[39m'''\u001b[39;00m\n\u001b[0;32m---> <a href='vscode-notebook-cell:/Users/evan/Library/CloudStorage/OneDrive-Personal/Stage/St%20Cyr/EMSCC-FakeNewsProject/testlime.ipynb#ch0000012?line=10'>11</a>\u001b[0m \u001b[39mprint\u001b[39m(\u001b[39m'\u001b[39m\u001b[39mX_test = \u001b[39m\u001b[39m'\u001b[39m,X_test)\n\u001b[1;32m     <a href='vscode-notebook-cell:/Users/evan/Library/CloudStorage/OneDrive-Personal/Stage/St%20Cyr/EMSCC-FakeNewsProject/testlime.ipynb#ch0000012?line=11'>12</a>\u001b[0m \u001b[39mprint\u001b[39m(\u001b[39m'\u001b[39m\u001b[39mX_test type = \u001b[39m\u001b[39m'\u001b[39m,\u001b[39mtype\u001b[39m(X_test))\n\u001b[1;32m     <a href='vscode-notebook-cell:/Users/evan/Library/CloudStorage/OneDrive-Personal/Stage/St%20Cyr/EMSCC-FakeNewsProject/testlime.ipynb#ch0000012?line=13'>14</a>\u001b[0m o\u001b[39m=\u001b[39mpd\u001b[39m.\u001b[39mSeries(X_test[\u001b[39m1\u001b[39m])\n",
      "\u001b[0;31mNameError\u001b[0m: name 'X_test' is not defined"
     ]
    }
   ],
   "source": [
    "'''\n",
    "from sklearn.naive_bayes import MultinomialNB\n",
    "\n",
    "NB_classifier = MultinomialNB()\n",
    "\n",
    "mo=MultinomialNB()\n",
    "mo.fit(vtrain,y_train)\n",
    "'''\n",
    "\n",
    "\n",
    "print('X_test = ',X_test)\n",
    "print('X_test type = ',type(X_test))\n",
    "\n",
    "o=pd.Series(X_test[1])\n",
    "o=vectorizer.transform(o)\n",
    "o=scipy.sparse.csr_matrix.toarray(o)\n",
    "o=o[0]\n",
    "print('o = ', o)\n",
    "print('o type = ',type(o))\n",
    "print('o shape = ',o.shape)\n",
    "\n",
    "\n",
    "print('vtrain shape = ',vtrain.shape)\n",
    "print('vtrain type = ',type(vtrain))\n",
    "print('vtrain[5][5] = ',vtrain[5][5])\n",
    "print('vtrain[5][5] type = ',type(vtrain[5][5]))\n",
    "explainer = lime_tabular.LimeTabularExplainer(vtrain,mode=\"classification\",categorical_features=features,feature_names=features)\n",
    "exp=explainer.explain_instance(data_row=o,predict_fn=mo.predict_proba, num_features=20) #labels=features\n",
    "exp.as_pyplot_figure()\n",
    "from matplotlib import pyplot as plt\n",
    "plt.tight_layout()\n",
    "exp.show_in_notebook()"
   ]
  },
  {
   "cell_type": "code",
   "execution_count": 330,
   "metadata": {},
   "outputs": [
    {
     "name": "stdout",
     "output_type": "stream",
     "text": [
      "december\n"
     ]
    }
   ],
   "source": [
    "print(features[505])"
   ]
  },
  {
   "cell_type": "code",
   "execution_count": 319,
   "metadata": {},
   "outputs": [
    {
     "name": "stdout",
     "output_type": "stream",
     "text": [
      "['10' '11' '12000' ... 'young' 'zach' 'zhbankov']\n"
     ]
    },
    {
     "data": {
      "image/png": "[encoded data removed]",
      "text/plain": [
       "<Figure size 576x432 with 1 Axes>"
      ]
     },
     "metadata": {},
     "output_type": "display_data"
    }
   ],
   "source": [
    "print(features)\n",
    "with plt.style.context(\"ggplot\"):\n",
    "    fig = plt.figure(figsize=(8,6))\n",
    "    plt.barh(range(len(mo.coef_[0])), mo.coef_[0], color=[\"red\" if coef<0 else \"green\" for coef in mo.coef_[0]])\n",
    "    plt.yticks(range(len(mo.coef_[0])), features);\n",
    "    plt.title(\"Weights\")"
   ]
  },
  {
   "cell_type": "code",
   "execution_count": 340,
   "metadata": {},
   "outputs": [
    {
     "name": "stdout",
     "output_type": "stream",
     "text": [
      "!\"#$%&'()*+,-./:;<=>?@[\\]^_`{|}~\n"
     ]
    }
   ],
   "source": [
    "import string\n",
    "print(string.punctuation)"
   ]
  },
  {
   "cell_type": "code",
   "execution_count": null,
   "metadata": {},
   "outputs": [],
   "source": []
  }
 ],
 "metadata": {
  "interpreter": {
   "hash": "52fd7cfe315652c26f116941759022c1154f5724bf85b7c7e9d121c272da0755"
  },
  "kernelspec": {
   "display_name": "Python 3.9.12 ('NLP')",
   "language": "python",
   "name": "python3"
  },
  "language_info": {
   "codemirror_mode": {
    "name": "ipython",
    "version": 3
   },
   "file_extension": ".py",
   "mimetype": "text/x-python",
   "name": "python",
   "nbconvert_exporter": "python",
   "pygments_lexer": "ipython3",
   "version": "3.9.12"
  },
  "orig_nbformat": 4
 },
 "nbformat": 4,
 "nbformat_minor": 2
}
